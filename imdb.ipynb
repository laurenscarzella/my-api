{
 "cells": [
  {
   "cell_type": "code",
   "execution_count": 1,
   "metadata": {},
   "outputs": [
    {
     "name": "stdout",
     "output_type": "stream",
     "text": [
      "Unique Genres: {'Action', 'Science Fiction', 'Adventure', 'Thriller', 'History', 'Documentary', 'Crime', 'Horror', 'Fantasy', 'Romance', 'Comedy', 'Drama', 'Western', 'War', 'Mystery', 'Family', 'TV Movie', 'Animation', 'Music'}\n"
     ]
    },
    {
     "data": {
      "text/plain": [
       "19"
      ]
     },
     "execution_count": 1,
     "metadata": {},
     "output_type": "execute_result"
    }
   ],
   "source": [
    "import requests\n",
    "import pandas as pd\n",
    "\n",
    "base_url = \"https://api.themoviedb.org/3/movie/popular\"\n",
    "base_url_genres = \"https://api.themoviedb.org/3/genre/movie/list\"\n",
    "\n",
    "with open(\"tmdbapikey.txt\", \"r\") as file:\n",
    "    api_key = file.read().strip()\n",
    "\n",
    "all_movies = []\n",
    "\n",
    "for page in range(1, 51):\n",
    "    params = {\n",
    "        \"api_key\": api_key,\n",
    "        \"language\": \"en-US\",\n",
    "        \"page\": page\n",
    "    }\n",
    "    \n",
    "    response = requests.get(base_url, params=params)\n",
    "    data = response.json()\n",
    "\n",
    "    if 'results' in data:\n",
    "        movies = data['results']\n",
    "    else:\n",
    "        movies = []\n",
    "\n",
    "    for movie in movies:\n",
    "        info = {\n",
    "            \"id\": movie.get(\"id\"),\n",
    "            \"title\": movie.get(\"title\"),\n",
    "            \"original_title\": movie.get(\"original_title\"),\n",
    "            \"release_date\": movie.get(\"release_date\"),\n",
    "            \"overview\": movie.get(\"overview\"),\n",
    "            \"genre_ids\": movie.get(\"genre_ids\"),\n",
    "            \"original_language\": movie.get(\"original_language\"),\n",
    "            \"popularity\": movie.get(\"popularity\"),\n",
    "            \"vote_average\": movie.get(\"vote_average\"),\n",
    "            \"vote_count\": movie.get(\"vote_count\"),\n",
    "            \"adult\": movie.get(\"adult\"),\n",
    "        }\n",
    "        all_movies.append(info)\n",
    "\n",
    "movie_df = pd.DataFrame(all_movies)\n",
    "\n",
    "# turn genre ids into names instead of numbers\n",
    "params_genres = {\n",
    "    \"api_key\": api_key,\n",
    "    \"language\": \"en-US\"\n",
    "}\n",
    "genre_response = requests.get(base_url_genres, params=params_genres)\n",
    "\n",
    "genres_data = genre_response.json()\n",
    "\n",
    "genre_mapping = {genre['id']: genre['name'] for genre in genres_data['genres']}\n",
    "\n",
    "movie_df['genre_names'] = movie_df['genre_ids'].apply(lambda ids: [genre_mapping.get(genre_id) for genre_id in ids])\n",
    "\n",
    "unique_genres = set()\n",
    "for genres in movie_df['genre_names']:\n",
    "    unique_genres.update(genres)\n",
    "\n",
    "print(\"Unique Genres:\", unique_genres)\n",
    "\n",
    "movie_df.to_csv(\"my_api_data.csv\", index=False)\n",
    "\n",
    "len(unique_genres)"
   ]
  }
 ],
 "metadata": {
  "kernelspec": {
   "display_name": "classes24",
   "language": "python",
   "name": "python3"
  },
  "language_info": {
   "codemirror_mode": {
    "name": "ipython",
    "version": 3
   },
   "file_extension": ".py",
   "mimetype": "text/x-python",
   "name": "python",
   "nbconvert_exporter": "python",
   "pygments_lexer": "ipython3",
   "version": "3.12.5"
  }
 },
 "nbformat": 4,
 "nbformat_minor": 2
}
