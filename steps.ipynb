{
 "cells": [
  {
   "cell_type": "code",
   "execution_count": 2,
   "metadata": {},
   "outputs": [
    {
     "name": "stdout",
     "output_type": "stream",
     "text": [
      "        id                        title               original_title  \\\n",
      "0   912649        Venom: The Last Dance        Venom: The Last Dance   \n",
      "1  1184918               The Wild Robot               The Wild Robot   \n",
      "2  1034541                  Terrifier 3                  Terrifier 3   \n",
      "3   698687             Transformers One             Transformers One   \n",
      "4   945961               Alien: Romulus               Alien: Romulus   \n",
      "5   933260                The Substance                The Substance   \n",
      "6   533535         Deadpool & Wolverine         Deadpool & Wolverine   \n",
      "7  1196470                      Survive                     Survivre   \n",
      "8   335983                        Venom                        Venom   \n",
      "9   580489  Venom: Let There Be Carnage  Venom: Let There Be Carnage   \n",
      "\n",
      "  release_date                                           overview  \\\n",
      "0   2024-10-22  Eddie and Venom are on the run. Hunted by both...   \n",
      "1   2024-09-12  After a shipwreck, an intelligent robot called...   \n",
      "2   2024-10-09  Five years after surviving Art the Clown's Hal...   \n",
      "3   2024-09-11  The untold origin story of Optimus Prime and M...   \n",
      "4   2024-08-13  While scavenging the deep ends of a derelict s...   \n",
      "5   2024-09-07  A fading celebrity decides to use a black mark...   \n",
      "6   2024-07-24  A listless Wade Wilson toils away in civilian ...   \n",
      "7   2024-06-19  A couple celebrates their son’s birthday in th...   \n",
      "8   2018-09-28  Investigative journalist Eddie Brock attempts ...   \n",
      "9   2021-09-30  After finding a host body in investigative rep...   \n",
      "\n",
      "                  genre_ids original_language  popularity  vote_average  \\\n",
      "0             [878, 28, 12]                en    6655.644         6.700   \n",
      "1          [16, 878, 10751]                en    5274.515         8.600   \n",
      "2                  [27, 53]                en    3997.131         7.400   \n",
      "3  [16, 878, 12, 10751, 28]                en    3884.457         8.100   \n",
      "4                 [878, 27]                en    2513.291         7.269   \n",
      "5             [27, 878, 53]                en    2129.397         7.300   \n",
      "6             [28, 35, 878]                en    1853.609         7.708   \n",
      "7         [53, 12, 28, 878]                fr    1682.472         4.600   \n",
      "8                 [878, 28]                en    1515.149         6.831   \n",
      "9             [878, 28, 12]                en    1504.565         6.800   \n",
      "\n",
      "   vote_count  adult                                        genre_names  \n",
      "0         313  False         ['Science Fiction', 'Action', 'Adventure']  \n",
      "1        1987  False         ['Animation', 'Science Fiction', 'Family']  \n",
      "2         310  False                             ['Horror', 'Thriller']  \n",
      "3         440  False  ['Animation', 'Science Fiction', 'Adventure', ...  \n",
      "4        2006  False                      ['Science Fiction', 'Horror']  \n",
      "5        1022  False          ['Horror', 'Science Fiction', 'Thriller']  \n",
      "6        4895  False            ['Action', 'Comedy', 'Science Fiction']  \n",
      "7          25  False  ['Thriller', 'Adventure', 'Action', 'Science F...  \n",
      "8       15808  False                      ['Science Fiction', 'Action']  \n",
      "9       10047  False         ['Science Fiction', 'Action', 'Adventure']  \n"
     ]
    }
   ],
   "source": [
    "import pandas as pd\n",
    "\n",
    "df = pd.read_csv(\"my_api_data.csv\")\n",
    "print(df.head(10))"
   ]
  }
 ],
 "metadata": {
  "kernelspec": {
   "display_name": "classes24",
   "language": "python",
   "name": "python3"
  },
  "language_info": {
   "codemirror_mode": {
    "name": "ipython",
    "version": 3
   },
   "file_extension": ".py",
   "mimetype": "text/x-python",
   "name": "python",
   "nbconvert_exporter": "python",
   "pygments_lexer": "ipython3",
   "version": "3.12.5"
  }
 },
 "nbformat": 4,
 "nbformat_minor": 2
}
